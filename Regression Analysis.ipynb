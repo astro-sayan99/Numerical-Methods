{
 "cells": [
  {
   "cell_type": "markdown",
   "id": "04cfc95f",
   "metadata": {},
   "source": [
    "## Regression Analysis"
   ]
  },
  {
   "cell_type": "code",
   "execution_count": 1,
   "id": "4c55a803",
   "metadata": {},
   "outputs": [
    {
     "name": "stdout",
     "output_type": "stream",
     "text": [
      "r = 1.0000, bxy = 0.5000, dyx = 2.0000\n"
     ]
    }
   ],
   "source": [
    "import numpy as np\n",
    "\n",
    "x = np.array([1, 2, 3, 4, 5])\n",
    "y = np.array([3, 5, 7, 9, 11])\n",
    "\n",
    "avg_x = sum(x) / len(x)\n",
    "avg_y = sum(y) / len(y)\n",
    "\n",
    "std_x = np.sqrt(sum((i - avg_x)**2 for i in x) / len(x))\n",
    "std_y = np.sqrt(sum((i - avg_y)**2 for i in y) / len(y))\n",
    "\n",
    "r = sum((i - avg_x) * (j - avg_y) for i, j in zip(x, y)) / (len(x) * std_x * std_y)\n",
    "\n",
    "bxy = r * (std_x / std_y)\n",
    "byx = r * (std_y / std_x)\n",
    "\n",
    "print(f\"r = {r:.4f}, bxy = {bxy:.4f}, dyx = {byx:.4f}\")"
   ]
  }
 ],
 "metadata": {
  "kernelspec": {
   "display_name": "Python 3 (ipykernel)",
   "language": "python",
   "name": "python3"
  },
  "language_info": {
   "codemirror_mode": {
    "name": "ipython",
    "version": 3
   },
   "file_extension": ".py",
   "mimetype": "text/x-python",
   "name": "python",
   "nbconvert_exporter": "python",
   "pygments_lexer": "ipython3",
   "version": "3.11.4"
  }
 },
 "nbformat": 4,
 "nbformat_minor": 5
}
